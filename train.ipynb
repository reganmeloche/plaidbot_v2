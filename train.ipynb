{
 "cells": [
  {
   "cell_type": "markdown",
   "metadata": {},
   "source": [
    "# Plaidbot Training"
   ]
  },
  {
   "cell_type": "markdown",
   "metadata": {},
   "source": [
    "This notebook is for training a plaidbot model\n",
    "\n",
    "Change runtime to use a GPU"
   ]
  },
  {
   "cell_type": "markdown",
   "metadata": {},
   "source": [
    "## Setup"
   ]
  },
  {
   "cell_type": "code",
   "execution_count": null,
   "metadata": {},
   "outputs": [],
   "source": [
    "!pip install transformers"
   ]
  },
  {
   "cell_type": "code",
   "execution_count": null,
   "metadata": {},
   "outputs": [],
   "source": [
    "from google.colab import drive\n",
    "drive.mount('/content/drive')"
   ]
  },
  {
   "cell_type": "code",
   "execution_count": null,
   "metadata": {},
   "outputs": [],
   "source": [
    "!cp -r '/content/drive/MyDrive/Colab Notebooks/Plaidbot/v2/app' ."
   ]
  },
  {
   "cell_type": "code",
   "execution_count": null,
   "metadata": {},
   "outputs": [],
   "source": [
    "from typing import List\n",
    "from datetime import datetime"
   ]
  },
  {
   "cell_type": "code",
   "execution_count": null,
   "metadata": {},
   "outputs": [],
   "source": [
    "# Imports\n",
    "from app.options.model_options import ModelOptions\n",
    "from app.options.prepro_options import PreproOptions\n",
    "from app.src.pick_users.run_pick_users import run_pick_users\n",
    "from app.src.select_data.run_select_data import run_select_data\n",
    "from app.src.train.run_training import run_training\n",
    "from app.src.train.run_prediction import run_prediction"
   ]
  },
  {
   "cell_type": "markdown",
   "metadata": {},
   "source": [
    "## Options"
   ]
  },
  {
   "cell_type": "code",
   "execution_count": null,
   "metadata": {},
   "outputs": [],
   "source": [
    "prepro_opts = PreproOptions()\n",
    "\n",
    "prepro_opts.user_filename:str = 'users.json'\n",
    "prepro_opts.message_folder:str = '/content/drive/MyDrive/Colab Notebooks/Plaidbot/messages'\n",
    "prepro_opts.selected_folders: List[str] = [\n",
    "        'general',\n",
    "        # add more folders...\n",
    "    ]\n",
    "\n",
    "# Filtering\n",
    "prepro_opts.min_date: datetime  = datetime(2018,1,1)\n",
    "prepro_opts.min_num_words: int = 3\n",
    "prepro_opts.max_messages: int = 100000"
   ]
  },
  {
   "cell_type": "code",
   "execution_count": null,
   "metadata": {},
   "outputs": [],
   "source": [
    "model_opts = ModelOptions()\n",
    "model_opts.max_len:int = 150\n",
    "model_opts.bert_model_name:str = 'distilbert-base-uncased'\n",
    "model_opts.val_size = 0.2\n",
    "model_opts.num_epochs = 2\n",
    "model_opts.batch_size = 8\n",
    "model_opts.device = 'cuda:0'\n",
    "model_opts.learning_rate = 2e-5\n",
    "model_opts.saved_model_name = ''"
   ]
  },
  {
   "cell_type": "markdown",
   "metadata": {},
   "source": [
    "## Pick users and Data"
   ]
  },
  {
   "cell_type": "code",
   "execution_count": null,
   "metadata": {},
   "outputs": [],
   "source": [
    "# Ideally I'd like to just have this automatically save the results to the appropriate options...\n",
    "# No other work needed on the users part\n",
    "# Otherwise, Once it's finished, need to update Options and restart the env\n",
    "run_pick_users(prepro_opts)"
   ]
  },
  {
   "cell_type": "code",
   "execution_count": null,
   "metadata": {},
   "outputs": [],
   "source": [
    "prepro_opts.user_id_int_dict = None\n",
    "model_opts.user_int_name_dict = None\n",
    "model_opts.num_labels = 0 # Get rid of this... make it dynamic.."
   ]
  },
  {
   "cell_type": "code",
   "execution_count": null,
   "metadata": {},
   "outputs": [],
   "source": [
    "messages = run_select_data(prepro_opts)\n",
    "# May want to save the messages... could make this optional\n",
    "# Add a message summary print func"
   ]
  },
  {
   "cell_type": "markdown",
   "metadata": {},
   "source": [
    "## Train"
   ]
  },
  {
   "cell_type": "code",
   "execution_count": null,
   "metadata": {},
   "outputs": [],
   "source": [
    "model = run_training(messages, model_opts)"
   ]
  },
  {
   "cell_type": "code",
   "execution_count": null,
   "metadata": {},
   "outputs": [],
   "source": [
    "test_messages = [\n",
    "    'This is a test'\n",
    "]\n",
    "\n",
    "preds = run_prediction(model, test_messages, model_opts)\n",
    "print(preds)"
   ]
  },
  {
   "cell_type": "markdown",
   "metadata": {},
   "source": [
    "## Save the model"
   ]
  },
  {
   "cell_type": "code",
   "execution_count": null,
   "metadata": {},
   "outputs": [],
   "source": [
    "from huggingface_hub import notebook_login\n",
    "notebook_login()"
   ]
  },
  {
   "cell_type": "code",
   "execution_count": null,
   "metadata": {},
   "outputs": [],
   "source": [
    "\n",
    "base_model = model.get_inner_model().get_base_model()\n",
    "base_model.push_to_hub(model_opts.saved_model_name)"
   ]
  },
  {
   "cell_type": "code",
   "execution_count": null,
   "metadata": {},
   "outputs": [],
   "source": [
    "test_messages = ['This is a test']\n",
    "preds = run_prediction(None, test_messages, model_opts)\n",
    "print(preds)"
   ]
  }
 ],
 "metadata": {
  "kernelspec": {
   "display_name": "Python 3.9.7 ('base')",
   "language": "python",
   "name": "python3"
  },
  "language_info": {
   "codemirror_mode": {
    "name": "ipython",
    "version": 3
   },
   "file_extension": ".py",
   "mimetype": "text/x-python",
   "name": "python",
   "nbconvert_exporter": "python",
   "pygments_lexer": "ipython3",
   "version": "3.9.7"
  },
  "orig_nbformat": 4,
  "vscode": {
   "interpreter": {
    "hash": "5e1573d6c84447af34afea73405281252e0fe9e7aa5b16df75ea480bceab155a"
   }
  }
 },
 "nbformat": 4,
 "nbformat_minor": 2
}
