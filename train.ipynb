{
 "cells": [
  {
   "cell_type": "markdown",
   "metadata": {},
   "source": [
    "# Plaidbot Training"
   ]
  },
  {
   "cell_type": "markdown",
   "metadata": {},
   "source": [
    "This notebook is for training a plaidbot model\n",
    "\n",
    "Change runtime to use a GPU"
   ]
  },
  {
   "cell_type": "markdown",
   "metadata": {},
   "source": [
    "## Setup"
   ]
  },
  {
   "cell_type": "code",
   "execution_count": null,
   "metadata": {},
   "outputs": [],
   "source": [
    "!pip install transformers"
   ]
  },
  {
   "cell_type": "code",
   "execution_count": null,
   "metadata": {},
   "outputs": [],
   "source": [
    "from google.colab import drive\n",
    "drive.mount('/content/drive')"
   ]
  },
  {
   "cell_type": "code",
   "execution_count": null,
   "metadata": {},
   "outputs": [],
   "source": [
    "!cp -r '/content/drive/MyDrive/Colab Notebooks/Plaidbot/v2/src' ."
   ]
  },
  {
   "cell_type": "code",
   "execution_count": null,
   "metadata": {},
   "outputs": [],
   "source": [
    "# Imports\n",
    "from datetime import datetime\n",
    "\n",
    "# Options\n",
    "from options.model_options import ModelOptions\n",
    "from options.prepro_options import PreproOptions\n",
    "\n",
    "# Scripts\n",
    "from src.training.pick_users.run_pick_users import run_pick_users\n",
    "from src.training.select_data.run_select_data import run_select_data\n",
    "from src.training.train.run_training import run_training\n",
    "from src.training.train.run_evaluation import run_evaluation"
   ]
  },
  {
   "cell_type": "markdown",
   "metadata": {},
   "source": [
    "## Options"
   ]
  },
  {
   "cell_type": "code",
   "execution_count": null,
   "metadata": {},
   "outputs": [],
   "source": [
    "prepro_opts = PreproOptions()\n",
    "\n",
    "# File path options\n",
    "prepro_opts.user_filename = 'users.json' # File from slack where user info is stored \n",
    "prepro_opts.message_folder = '/content/drive/MyDrive/Colab Notebooks/Plaidbot/messages' # Folder containing slack message folders\n",
    "prepro_opts.selected_folders = [ \n",
    "    'general',\n",
    "    # add desired folders...\n",
    "]\n",
    "\n",
    "# Filtering Options\n",
    "prepro_opts.min_date: datetime  = datetime(2018, 1, 1) # Earliest message date\n",
    "prepro_opts.min_num_words = 3 # Minimum number of words in a message\n",
    "prepro_opts.max_messages = 100000 # Maximum number of messages to use for training and testing"
   ]
  },
  {
   "cell_type": "code",
   "execution_count": null,
   "metadata": {},
   "outputs": [],
   "source": [
    "model_opts = ModelOptions()\n",
    "model_opts.bert_model_name = 'distilbert-base-uncased' # Bert model name\n",
    "model_opts.max_len = 150 # Max characters per message\n",
    "model_opts.val_size = 0.2 # Proportion of messages used for validation\n",
    "model_opts.num_epochs = 2 # Number of training epochs\n",
    "model_opts.batch_size = 8 # Batch size for data loader\n",
    "model_opts.device = 'cuda:0' # Device used for training. Use 'cuda:0' for training, 'cpu' for deploying\n",
    "model_opts.learning_rate = 2e-5 # Learning rate of optimizer\n",
    "\n",
    "model_opts.saved_model_name = 'username/model-name' # Saved model name for HuggingFace\n",
    "model_opts.auth_token = 'hugging-face-auth-token-goes-here' # HuggingFace Access token"
   ]
  },
  {
   "cell_type": "markdown",
   "metadata": {},
   "source": [
    "## Pick users and Data"
   ]
  },
  {
   "cell_type": "code",
   "execution_count": null,
   "metadata": {},
   "outputs": [],
   "source": [
    "a, b = run_pick_users(prepro_opts)"
   ]
  },
  {
   "cell_type": "code",
   "execution_count": null,
   "metadata": {},
   "outputs": [],
   "source": [
    "prepro_opts.user_id_int_dict = a\n",
    "model_opts.user_int_name_dict = b"
   ]
  },
  {
   "cell_type": "code",
   "execution_count": null,
   "metadata": {},
   "outputs": [],
   "source": [
    "train_messages, test_messages = run_select_data(prepro_opts)"
   ]
  },
  {
   "cell_type": "markdown",
   "metadata": {},
   "source": [
    "## Train and Evaluate"
   ]
  },
  {
   "cell_type": "code",
   "execution_count": null,
   "metadata": {},
   "outputs": [],
   "source": [
    "model = run_training(train_messages, model_opts)"
   ]
  },
  {
   "cell_type": "code",
   "execution_count": null,
   "metadata": {},
   "outputs": [],
   "source": [
    "run_evaluation(model, test_messages, model_opts)"
   ]
  },
  {
   "cell_type": "markdown",
   "metadata": {},
   "source": [
    "## Save the model"
   ]
  },
  {
   "cell_type": "code",
   "execution_count": null,
   "metadata": {},
   "outputs": [],
   "source": [
    "from huggingface_hub import notebook_login\n",
    "notebook_login()"
   ]
  },
  {
   "cell_type": "code",
   "execution_count": null,
   "metadata": {},
   "outputs": [],
   "source": [
    "# Maybe I should also save the tokenizer?\n",
    "base_model = model.get_inner_model().get_base_model()\n",
    "base_model.push_to_hub(model_opts.saved_model_name)"
   ]
  },
  {
   "cell_type": "markdown",
   "metadata": {},
   "source": [
    "## Reload Model and Predict"
   ]
  },
  {
   "cell_type": "code",
   "execution_count": null,
   "metadata": {},
   "outputs": [],
   "source": [
    "from src.web.web_dependencies import WebDependencies\n",
    "web_deps = WebDependencies(model_opts)"
   ]
  },
  {
   "cell_type": "code",
   "execution_count": null,
   "metadata": {},
   "outputs": [],
   "source": [
    "sample_text = 'This is a test!'\n",
    "prediction = web_deps.prediction_handler.handle(sample_text)\n",
    "print(prediction)"
   ]
  }
 ],
 "metadata": {
  "kernelspec": {
   "display_name": "Python 3.9.7 ('base')",
   "language": "python",
   "name": "python3"
  },
  "language_info": {
   "codemirror_mode": {
    "name": "ipython",
    "version": 3
   },
   "file_extension": ".py",
   "mimetype": "text/x-python",
   "name": "python",
   "nbconvert_exporter": "python",
   "pygments_lexer": "ipython3",
   "version": "3.9.7"
  },
  "orig_nbformat": 4,
  "vscode": {
   "interpreter": {
    "hash": "5e1573d6c84447af34afea73405281252e0fe9e7aa5b16df75ea480bceab155a"
   }
  }
 },
 "nbformat": 4,
 "nbformat_minor": 2
}
