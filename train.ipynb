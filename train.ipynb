{
 "cells": [
  {
   "cell_type": "markdown",
   "metadata": {},
   "source": [
    "# Plaidbot Training"
   ]
  },
  {
   "cell_type": "markdown",
   "metadata": {},
   "source": [
    "This notebook will allow you to configure and train a BERT-based model that can predict the author of a slack message. Follow each instruction closely.\n",
    "\n",
    "Since we are training with BERT models, it is recommended that you upgrade to a higher Google Colab tier so that you can make use of a GPU, which makes the training significantly faster. If you have upgraded, make sure to set the runtime to use a GPU."
   ]
  },
  {
   "cell_type": "markdown",
   "metadata": {},
   "source": [
    "## Setup"
   ]
  },
  {
   "cell_type": "code",
   "execution_count": null,
   "metadata": {},
   "outputs": [],
   "source": [
    "!pip install transformers"
   ]
  },
  {
   "cell_type": "code",
   "execution_count": null,
   "metadata": {},
   "outputs": [],
   "source": [
    "from google.colab import drive\n",
    "drive.mount('/content/drive')"
   ]
  },
  {
   "cell_type": "code",
   "execution_count": null,
   "metadata": {},
   "outputs": [],
   "source": [
    "# Ensure this path corresponds to the 'src' folder that you copied to Google Drive\n",
    "!cp -r '/content/drive/MyDrive/Colab Notebooks/plaidbot_v2/src' ."
   ]
  },
  {
   "cell_type": "code",
   "execution_count": null,
   "metadata": {},
   "outputs": [],
   "source": [
    "from datetime import datetime\n",
    "from src.options.model_options import ModelOptions\n",
    "from src.options.prepro_options import PreproOptions\n",
    "from src.training.pick_users.run_pick_users import run_pick_users\n",
    "from src.training.select_data.run_select_data import run_select_data\n",
    "from src.training.train.run_training import run_training\n",
    "from src.training.train.run_evaluation import run_evaluation"
   ]
  },
  {
   "cell_type": "markdown",
   "metadata": {},
   "source": [
    "## Options\n",
    "\n",
    "For the most part, these default options will be fine. But pay close attention to the comments, as some require credentials and customization.\n"
   ]
  },
  {
   "cell_type": "code",
   "execution_count": null,
   "metadata": {},
   "outputs": [],
   "source": [
    "prepro_opts = PreproOptions()\n",
    "\n",
    "# File path options\n",
    "prepro_opts.message_folder = '/content/drive/MyDrive/Colab Notebooks/plaidbot_v2/messages' # Folder containing slack message folders\n",
    "prepro_opts.user_filename = 'users.json' # File from slack where user info is stored. This Should not need changing\n",
    "prepro_opts.selected_folders = [ \n",
    "    'general',\n",
    "    'random',\n",
    "    # add desired folders that you wish to use messages from for training\n",
    "]\n",
    "\n",
    "# Filtering Options\n",
    "prepro_opts.min_date: datetime  = datetime(2018, 1, 1) # Set the earliest message date\n",
    "prepro_opts.min_num_words = 3 # Minimum number of words in a message. Words with less than this will be filtered out\n",
    "prepro_opts.max_messages = 100000 # Maximum number of messages to use for training and testing"
   ]
  },
  {
   "cell_type": "code",
   "execution_count": null,
   "metadata": {},
   "outputs": [],
   "source": [
    "model_opts = ModelOptions()\n",
    "\n",
    "# Defaults should be fine for most of these, unless you want to do your own fine-tuning\n",
    "model_opts.bert_model_name = 'distilbert-base-uncased' # BERT model name. Must work with DistilBertForSequenceClassification\n",
    "model_opts.max_len = 200 # Max characters per message\n",
    "model_opts.val_size = 0.2 # Proportion of messages used for validation\n",
    "model_opts.num_epochs = 2 # Number of training epochs\n",
    "model_opts.batch_size = 8 # Batch size for data loader\n",
    "model_opts.learning_rate = 2e-5 # Learning rate of optimizer\n",
    "\n",
    "# Device used for training. If using a GPU, use 'cuda:0', otherwise use 'cpu'\n",
    "model_opts.device = 'cuda:0' \n",
    "\n",
    "model_opts.saved_model_name = 'username/model-name' # Saved model name for HuggingFace\n",
    "model_opts.auth_token = 'hugging-face-auth-token-goes-here' # HuggingFace Access token - Can be accessed here: https://huggingface.co/settings/tokens"
   ]
  },
  {
   "cell_type": "markdown",
   "metadata": {},
   "source": [
    "## Pick users and Data\n",
    "\n",
    "Run these scripts, and make sure to copy and save the user dictionary somewhere temporarily. You will need it when deploying your model."
   ]
  },
  {
   "cell_type": "code",
   "execution_count": null,
   "metadata": {},
   "outputs": [],
   "source": [
    "a, b = run_pick_users(prepro_opts)"
   ]
  },
  {
   "cell_type": "code",
   "execution_count": null,
   "metadata": {},
   "outputs": [],
   "source": [
    "prepro_opts.user_id_int_dict = a\n",
    "model_opts.user_int_name_dict = b"
   ]
  },
  {
   "cell_type": "code",
   "execution_count": null,
   "metadata": {},
   "outputs": [],
   "source": [
    "train_messages, test_messages = run_select_data(prepro_opts)"
   ]
  },
  {
   "cell_type": "markdown",
   "metadata": {},
   "source": [
    "## Train and Evaluate"
   ]
  },
  {
   "cell_type": "code",
   "execution_count": null,
   "metadata": {},
   "outputs": [],
   "source": [
    "model = run_training(train_messages, model_opts)"
   ]
  },
  {
   "cell_type": "code",
   "execution_count": null,
   "metadata": {},
   "outputs": [],
   "source": [
    "run_evaluation(model, test_messages, model_opts)"
   ]
  },
  {
   "cell_type": "markdown",
   "metadata": {},
   "source": [
    "## Save the model to HuggingFace"
   ]
  },
  {
   "cell_type": "code",
   "execution_count": null,
   "metadata": {},
   "outputs": [],
   "source": [
    "from huggingface_hub import notebook_login\n",
    "notebook_login()"
   ]
  },
  {
   "cell_type": "code",
   "execution_count": null,
   "metadata": {},
   "outputs": [],
   "source": [
    "base_model = model.get_inner_model().get_base_model()\n",
    "base_model.push_to_hub(model_opts.saved_model_name)"
   ]
  }
 ],
 "metadata": {
  "kernelspec": {
   "display_name": "Python 3.9.7 ('base')",
   "language": "python",
   "name": "python3"
  },
  "language_info": {
   "codemirror_mode": {
    "name": "ipython",
    "version": 3
   },
   "file_extension": ".py",
   "mimetype": "text/x-python",
   "name": "python",
   "nbconvert_exporter": "python",
   "pygments_lexer": "ipython3",
   "version": "3.9.7"
  },
  "orig_nbformat": 4,
  "vscode": {
   "interpreter": {
    "hash": "5e1573d6c84447af34afea73405281252e0fe9e7aa5b16df75ea480bceab155a"
   }
  }
 },
 "nbformat": 4,
 "nbformat_minor": 2
}
